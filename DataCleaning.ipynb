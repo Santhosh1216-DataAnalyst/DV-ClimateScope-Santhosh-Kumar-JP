{
  "nbformat": 4,
  "nbformat_minor": 0,
  "metadata": {
    "colab": {
      "provenance": []
    },
    "kernelspec": {
      "name": "python3",
      "display_name": "Python 3"
    },
    "language_info": {
      "name": "python"
    }
  },
  "cells": [
    {
      "cell_type": "code",
      "source": [
        "from google.colab import files\n",
        "\n",
        "uploaded = files.upload()"
      ],
      "metadata": {
        "colab": {
          "base_uri": "https://localhost:8080/",
          "height": 73
        },
        "id": "AEel62p_BwcA",
        "outputId": "2acd2254-85ef-435e-9457-bddf83abb66e"
      },
      "execution_count": 6,
      "outputs": [
        {
          "output_type": "display_data",
          "data": {
            "text/plain": [
              "<IPython.core.display.HTML object>"
            ],
            "text/html": [
              "\n",
              "     <input type=\"file\" id=\"files-cc26eebf-82f6-438f-a7b5-12abff53a8f7\" name=\"files[]\" multiple disabled\n",
              "        style=\"border:none\" />\n",
              "     <output id=\"result-cc26eebf-82f6-438f-a7b5-12abff53a8f7\">\n",
              "      Upload widget is only available when the cell has been executed in the\n",
              "      current browser session. Please rerun this cell to enable.\n",
              "      </output>\n",
              "      <script>// Copyright 2017 Google LLC\n",
              "//\n",
              "// Licensed under the Apache License, Version 2.0 (the \"License\");\n",
              "// you may not use this file except in compliance with the License.\n",
              "// You may obtain a copy of the License at\n",
              "//\n",
              "//      http://www.apache.org/licenses/LICENSE-2.0\n",
              "//\n",
              "// Unless required by applicable law or agreed to in writing, software\n",
              "// distributed under the License is distributed on an \"AS IS\" BASIS,\n",
              "// WITHOUT WARRANTIES OR CONDITIONS OF ANY KIND, either express or implied.\n",
              "// See the License for the specific language governing permissions and\n",
              "// limitations under the License.\n",
              "\n",
              "/**\n",
              " * @fileoverview Helpers for google.colab Python module.\n",
              " */\n",
              "(function(scope) {\n",
              "function span(text, styleAttributes = {}) {\n",
              "  const element = document.createElement('span');\n",
              "  element.textContent = text;\n",
              "  for (const key of Object.keys(styleAttributes)) {\n",
              "    element.style[key] = styleAttributes[key];\n",
              "  }\n",
              "  return element;\n",
              "}\n",
              "\n",
              "// Max number of bytes which will be uploaded at a time.\n",
              "const MAX_PAYLOAD_SIZE = 100 * 1024;\n",
              "\n",
              "function _uploadFiles(inputId, outputId) {\n",
              "  const steps = uploadFilesStep(inputId, outputId);\n",
              "  const outputElement = document.getElementById(outputId);\n",
              "  // Cache steps on the outputElement to make it available for the next call\n",
              "  // to uploadFilesContinue from Python.\n",
              "  outputElement.steps = steps;\n",
              "\n",
              "  return _uploadFilesContinue(outputId);\n",
              "}\n",
              "\n",
              "// This is roughly an async generator (not supported in the browser yet),\n",
              "// where there are multiple asynchronous steps and the Python side is going\n",
              "// to poll for completion of each step.\n",
              "// This uses a Promise to block the python side on completion of each step,\n",
              "// then passes the result of the previous step as the input to the next step.\n",
              "function _uploadFilesContinue(outputId) {\n",
              "  const outputElement = document.getElementById(outputId);\n",
              "  const steps = outputElement.steps;\n",
              "\n",
              "  const next = steps.next(outputElement.lastPromiseValue);\n",
              "  return Promise.resolve(next.value.promise).then((value) => {\n",
              "    // Cache the last promise value to make it available to the next\n",
              "    // step of the generator.\n",
              "    outputElement.lastPromiseValue = value;\n",
              "    return next.value.response;\n",
              "  });\n",
              "}\n",
              "\n",
              "/**\n",
              " * Generator function which is called between each async step of the upload\n",
              " * process.\n",
              " * @param {string} inputId Element ID of the input file picker element.\n",
              " * @param {string} outputId Element ID of the output display.\n",
              " * @return {!Iterable<!Object>} Iterable of next steps.\n",
              " */\n",
              "function* uploadFilesStep(inputId, outputId) {\n",
              "  const inputElement = document.getElementById(inputId);\n",
              "  inputElement.disabled = false;\n",
              "\n",
              "  const outputElement = document.getElementById(outputId);\n",
              "  outputElement.innerHTML = '';\n",
              "\n",
              "  const pickedPromise = new Promise((resolve) => {\n",
              "    inputElement.addEventListener('change', (e) => {\n",
              "      resolve(e.target.files);\n",
              "    });\n",
              "  });\n",
              "\n",
              "  const cancel = document.createElement('button');\n",
              "  inputElement.parentElement.appendChild(cancel);\n",
              "  cancel.textContent = 'Cancel upload';\n",
              "  const cancelPromise = new Promise((resolve) => {\n",
              "    cancel.onclick = () => {\n",
              "      resolve(null);\n",
              "    };\n",
              "  });\n",
              "\n",
              "  // Wait for the user to pick the files.\n",
              "  const files = yield {\n",
              "    promise: Promise.race([pickedPromise, cancelPromise]),\n",
              "    response: {\n",
              "      action: 'starting',\n",
              "    }\n",
              "  };\n",
              "\n",
              "  cancel.remove();\n",
              "\n",
              "  // Disable the input element since further picks are not allowed.\n",
              "  inputElement.disabled = true;\n",
              "\n",
              "  if (!files) {\n",
              "    return {\n",
              "      response: {\n",
              "        action: 'complete',\n",
              "      }\n",
              "    };\n",
              "  }\n",
              "\n",
              "  for (const file of files) {\n",
              "    const li = document.createElement('li');\n",
              "    li.append(span(file.name, {fontWeight: 'bold'}));\n",
              "    li.append(span(\n",
              "        `(${file.type || 'n/a'}) - ${file.size} bytes, ` +\n",
              "        `last modified: ${\n",
              "            file.lastModifiedDate ? file.lastModifiedDate.toLocaleDateString() :\n",
              "                                    'n/a'} - `));\n",
              "    const percent = span('0% done');\n",
              "    li.appendChild(percent);\n",
              "\n",
              "    outputElement.appendChild(li);\n",
              "\n",
              "    const fileDataPromise = new Promise((resolve) => {\n",
              "      const reader = new FileReader();\n",
              "      reader.onload = (e) => {\n",
              "        resolve(e.target.result);\n",
              "      };\n",
              "      reader.readAsArrayBuffer(file);\n",
              "    });\n",
              "    // Wait for the data to be ready.\n",
              "    let fileData = yield {\n",
              "      promise: fileDataPromise,\n",
              "      response: {\n",
              "        action: 'continue',\n",
              "      }\n",
              "    };\n",
              "\n",
              "    // Use a chunked sending to avoid message size limits. See b/62115660.\n",
              "    let position = 0;\n",
              "    do {\n",
              "      const length = Math.min(fileData.byteLength - position, MAX_PAYLOAD_SIZE);\n",
              "      const chunk = new Uint8Array(fileData, position, length);\n",
              "      position += length;\n",
              "\n",
              "      const base64 = btoa(String.fromCharCode.apply(null, chunk));\n",
              "      yield {\n",
              "        response: {\n",
              "          action: 'append',\n",
              "          file: file.name,\n",
              "          data: base64,\n",
              "        },\n",
              "      };\n",
              "\n",
              "      let percentDone = fileData.byteLength === 0 ?\n",
              "          100 :\n",
              "          Math.round((position / fileData.byteLength) * 100);\n",
              "      percent.textContent = `${percentDone}% done`;\n",
              "\n",
              "    } while (position < fileData.byteLength);\n",
              "  }\n",
              "\n",
              "  // All done.\n",
              "  yield {\n",
              "    response: {\n",
              "      action: 'complete',\n",
              "    }\n",
              "  };\n",
              "}\n",
              "\n",
              "scope.google = scope.google || {};\n",
              "scope.google.colab = scope.google.colab || {};\n",
              "scope.google.colab._files = {\n",
              "  _uploadFiles,\n",
              "  _uploadFilesContinue,\n",
              "};\n",
              "})(self);\n",
              "</script> "
            ]
          },
          "metadata": {}
        },
        {
          "output_type": "stream",
          "name": "stdout",
          "text": [
            "Saving GlobalWeatherRepository.csv to GlobalWeatherRepository.csv\n"
          ]
        }
      ]
    },
    {
      "cell_type": "code",
      "source": [
        "#importing libraries\n",
        "import pandas as pd\n",
        "\n",
        "#Load Dataset\n",
        "df = pd.read_csv(\"GlobalWeatherRepository.csv\")"
      ],
      "metadata": {
        "id": "gFHvTfwIFFxG"
      },
      "execution_count": 15,
      "outputs": []
    },
    {
      "cell_type": "code",
      "source": [
        "#To check the Last_Updated\n",
        "df['last_updated'] = pd.to_datetime(df['last_updated'])\n",
        "print(df['last_updated'])"
      ],
      "metadata": {
        "colab": {
          "base_uri": "https://localhost:8080/"
        },
        "collapsed": true,
        "id": "ZRe23NwFFZWK",
        "outputId": "0113ef19-752f-4429-bd7b-a24a7f20f98b"
      },
      "execution_count": 32,
      "outputs": [
        {
          "output_type": "stream",
          "name": "stdout",
          "text": [
            "0       2024-05-16 13:15:00\n",
            "1       2024-05-16 10:45:00\n",
            "2       2024-05-16 09:45:00\n",
            "3       2024-05-16 10:45:00\n",
            "4       2024-05-16 09:45:00\n",
            "                ...        \n",
            "88463   2025-08-14 04:15:00\n",
            "88464   2025-08-14 15:30:00\n",
            "88465   2025-08-14 11:30:00\n",
            "88466   2025-08-14 10:30:00\n",
            "88467   2025-08-14 10:30:00\n",
            "Name: last_updated, Length: 88468, dtype: datetime64[ns]\n"
          ]
        }
      ]
    },
    {
      "cell_type": "code",
      "source": [
        "#To see and understand the dataset\n",
        "print(\"Shape:\", df.shape)\n",
        "print(\"Date Range:\", df['last_updated'].min(), \"→\", df['last_updated'].max())\n",
        "print(\"Columns:\", df.columns.tolist())\n",
        "print(\"\\nData Types:\\n\", df.dtypes)"
      ],
      "metadata": {
        "colab": {
          "base_uri": "https://localhost:8080/"
        },
        "collapsed": true,
        "id": "FRGebT_eFyoX",
        "outputId": "d12d3d87-3025-4d34-ad1b-11ac27f0c44d"
      },
      "execution_count": 33,
      "outputs": [
        {
          "output_type": "stream",
          "name": "stdout",
          "text": [
            "Shape: (88468, 41)\n",
            "Date Range: 2024-05-16 01:45:00 → 2025-08-14 21:30:00\n",
            "Columns: ['country', 'location_name', 'latitude', 'longitude', 'timezone', 'last_updated_epoch', 'last_updated', 'temperature_celsius', 'temperature_fahrenheit', 'condition_text', 'wind_mph', 'wind_kph', 'wind_degree', 'wind_direction', 'pressure_mb', 'pressure_in', 'precip_mm', 'precip_in', 'humidity', 'cloud', 'feels_like_celsius', 'feels_like_fahrenheit', 'visibility_km', 'visibility_miles', 'uv_index', 'gust_mph', 'gust_kph', 'air_quality_Carbon_Monoxide', 'air_quality_Ozone', 'air_quality_Nitrogen_dioxide', 'air_quality_Sulphur_dioxide', 'air_quality_PM2.5', 'air_quality_PM10', 'air_quality_us-epa-index', 'air_quality_gb-defra-index', 'sunrise', 'sunset', 'moonrise', 'moonset', 'moon_phase', 'moon_illumination']\n",
            "\n",
            "Data Types:\n",
            " country                                 object\n",
            "location_name                           object\n",
            "latitude                               float64\n",
            "longitude                              float64\n",
            "timezone                                object\n",
            "last_updated_epoch                       int64\n",
            "last_updated                    datetime64[ns]\n",
            "temperature_celsius                    float64\n",
            "temperature_fahrenheit                 float64\n",
            "condition_text                          object\n",
            "wind_mph                               float64\n",
            "wind_kph                               float64\n",
            "wind_degree                              int64\n",
            "wind_direction                          object\n",
            "pressure_mb                            float64\n",
            "pressure_in                            float64\n",
            "precip_mm                              float64\n",
            "precip_in                              float64\n",
            "humidity                                 int64\n",
            "cloud                                    int64\n",
            "feels_like_celsius                     float64\n",
            "feels_like_fahrenheit                  float64\n",
            "visibility_km                          float64\n",
            "visibility_miles                       float64\n",
            "uv_index                               float64\n",
            "gust_mph                               float64\n",
            "gust_kph                               float64\n",
            "air_quality_Carbon_Monoxide            float64\n",
            "air_quality_Ozone                      float64\n",
            "air_quality_Nitrogen_dioxide           float64\n",
            "air_quality_Sulphur_dioxide            float64\n",
            "air_quality_PM2.5                      float64\n",
            "air_quality_PM10                       float64\n",
            "air_quality_us-epa-index                 int64\n",
            "air_quality_gb-defra-index               int64\n",
            "sunrise                                 object\n",
            "sunset                                  object\n",
            "moonrise                                object\n",
            "moonset                                 object\n",
            "moon_phase                              object\n",
            "moon_illumination                        int64\n",
            "dtype: object\n"
          ]
        }
      ]
    },
    {
      "cell_type": "code",
      "source": [
        "#Dropping columns with same measurement in two different units\n",
        "df_clean = df.drop(columns=[\n",
        "    'temperature_fahrenheit','precip_in','visibility_miles'\n",
        "])\n",
        "print(\"\\nRemaining Columns:\", df_clean.columns.tolist())"
      ],
      "metadata": {
        "colab": {
          "base_uri": "https://localhost:8080/"
        },
        "collapsed": true,
        "id": "T_zBQ_VDGJqD",
        "outputId": "dbf85433-b332-4b7d-983a-0dd6c707304e"
      },
      "execution_count": 21,
      "outputs": [
        {
          "output_type": "stream",
          "name": "stdout",
          "text": [
            "\n",
            "Remaining Columns: ['country', 'location_name', 'latitude', 'longitude', 'timezone', 'last_updated_epoch', 'last_updated', 'temperature_celsius', 'condition_text', 'wind_mph', 'wind_kph', 'wind_degree', 'wind_direction', 'pressure_mb', 'pressure_in', 'precip_mm', 'humidity', 'cloud', 'feels_like_celsius', 'feels_like_fahrenheit', 'visibility_km', 'uv_index', 'gust_mph', 'gust_kph', 'air_quality_Carbon_Monoxide', 'air_quality_Ozone', 'air_quality_Nitrogen_dioxide', 'air_quality_Sulphur_dioxide', 'air_quality_PM2.5', 'air_quality_PM10', 'air_quality_us-epa-index', 'air_quality_gb-defra-index', 'sunrise', 'sunset', 'moonrise', 'moonset', 'moon_phase', 'moon_illumination']\n"
          ]
        }
      ]
    },
    {
      "cell_type": "code",
      "source": [
        "#aggregating the cleaned dataset into monthly averages per country\n",
        "df_monthly = df_clean.groupby([\n",
        "    df_clean['last_updated'].dt.to_period('M'),\n",
        "    'country'\n",
        "]).mean(numeric_only=True).reset_index()\n"
      ],
      "metadata": {
        "colab": {
          "base_uri": "https://localhost:8080/"
        },
        "collapsed": true,
        "id": "ClTfgdk0HiNi",
        "outputId": "b8448755-a01e-4ff3-f9fc-cd3d08ed3f73"
      },
      "execution_count": 25,
      "outputs": [
        {
          "output_type": "stream",
          "name": "stdout",
          "text": [
            "\n",
            "📅 Monthly Aggregated Data (Sample):\n",
            "  last_updated              country  latitude  longitude  last_updated_epoch  \\\n",
            "0      2024-05          Afghanistan     34.52      69.18        1.716478e+09   \n",
            "1      2024-05              Albania     41.33      19.82        1.716478e+09   \n",
            "2      2024-05              Algeria     36.76       3.05        1.716478e+09   \n",
            "3      2024-05              Andorra     42.50       1.52        1.716478e+09   \n",
            "4      2024-05               Angola     -8.84      13.23        1.716478e+09   \n",
            "5      2024-05  Antigua and Barbuda     17.12     -61.85        1.716478e+09   \n",
            "6      2024-05            Argentina    -34.59     -58.67        1.716478e+09   \n",
            "7      2024-05              Armenia     40.18      44.51        1.716478e+09   \n",
            "8      2024-05            Australia    -35.28     149.22        1.716461e+09   \n",
            "9      2024-05              Austria     48.20      16.37        1.716478e+09   \n",
            "\n",
            "   temperature_celsius   wind_mph   wind_kph  wind_degree  pressure_mb  ...  \\\n",
            "0            20.305882   7.164706  11.517647   127.941176  1010.000000  ...   \n",
            "1            25.647059   8.141176  13.076471   287.647059  1012.235294  ...   \n",
            "2            26.117647  14.041176  22.617647   182.352941  1013.352941  ...   \n",
            "3            12.423529   6.147059   9.876471   238.235294  1013.000000  ...   \n",
            "4            29.088235  12.182353  19.594118   266.294118  1009.470588  ...   \n",
            "5            29.411765  10.094118  16.241176   100.000000  1015.823529  ...   \n",
            "6            11.235294   6.994118  11.258824   159.588235  1022.764706  ...   \n",
            "7            22.823529   6.588235  10.617647   154.058824  1013.529412  ...   \n",
            "8             3.866667   3.986667   6.446667   152.666667  1025.800000  ...   \n",
            "9            20.647059  10.276471  16.535294   169.529412  1012.529412  ...   \n",
            "\n",
            "    gust_kph  air_quality_Carbon_Monoxide  air_quality_Ozone  \\\n",
            "0  16.141176                  1424.094118          77.452941   \n",
            "1  18.752941                   198.223529          87.723529   \n",
            "2  28.741176                   233.758824         113.935294   \n",
            "3  12.617647                   151.570588          68.900000   \n",
            "4  28.670588                   730.600000         105.900000   \n",
            "5  31.952941                   230.800000          32.758824   \n",
            "6  15.276471                   672.676471          11.882353   \n",
            "7  14.994118                   185.064706         101.776471   \n",
            "8  13.713333                   262.926667          18.413333   \n",
            "9  22.270588                   201.652941          92.782353   \n",
            "\n",
            "   air_quality_Nitrogen_dioxide  air_quality_Sulphur_dioxide  \\\n",
            "0                     16.400000                     0.588235   \n",
            "1                      3.511765                     0.447059   \n",
            "2                     10.952941                     3.382353   \n",
            "3                      0.741176                     0.141176   \n",
            "4                     11.517647                     5.976471   \n",
            "5                      0.511765                     0.605882   \n",
            "6                     21.023529                     8.647059   \n",
            "7                      2.135294                     0.552941   \n",
            "8                     10.300000                     0.606667   \n",
            "9                      3.458824                     1.717647   \n",
            "\n",
            "   air_quality_PM2.5  air_quality_PM10  air_quality_us-epa-index  \\\n",
            "0           7.894118         17.411765                  1.000000   \n",
            "1          10.270588         24.552941                  1.352941   \n",
            "2           8.682353         18.005882                  1.117647   \n",
            "3           0.929412          1.211765                  1.000000   \n",
            "4          45.241176         92.688235                  2.529412   \n",
            "5           1.441176          5.617647                  1.000000   \n",
            "6           5.394118          8.964706                  1.000000   \n",
            "7           2.900000          8.400000                  1.000000   \n",
            "8           9.386667         11.253333                  1.266667   \n",
            "9           2.194118          2.664706                  1.000000   \n",
            "\n",
            "   air_quality_gb-defra-index  moon_illumination  \n",
            "0                    1.117647          78.647059  \n",
            "1                    1.588235          78.647059  \n",
            "2                    1.117647          78.647059  \n",
            "3                    1.000000          78.647059  \n",
            "4                    4.352941          78.647059  \n",
            "5                    1.000000          78.647059  \n",
            "6                    1.058824          78.647059  \n",
            "7                    1.058824          78.647059  \n",
            "8                    1.400000          81.133333  \n",
            "9                    1.000000          78.647059  \n",
            "\n",
            "[10 rows x 29 columns]\n"
          ]
        }
      ]
    },
    {
      "cell_type": "code",
      "source": [
        "df_clean.to_csv(\"clean_weather_data.csv\", index=False)\n",
        "df_monthly.to_csv(\"monthly_weather_data.csv\", index=False)\n",
        "\n",
        "print(\"\\n✅ Cleaned data saved as 'clean_weather_data.csv'\")\n",
        "print(\"✅ Monthly aggregated data saved as 'monthly_weather_data.csv'\")"
      ],
      "metadata": {
        "colab": {
          "base_uri": "https://localhost:8080/"
        },
        "id": "h4VgMIOtJTHo",
        "outputId": "4c2753f4-facd-4206-dc13-b73c832a89ed"
      },
      "execution_count": 28,
      "outputs": [
        {
          "output_type": "stream",
          "name": "stdout",
          "text": [
            "\n",
            "✅ Cleaned data saved as 'clean_weather_data.csv'\n",
            "✅ Monthly aggregated data saved as 'monthly_weather_data.csv'\n"
          ]
        }
      ]
    }
  ]
}